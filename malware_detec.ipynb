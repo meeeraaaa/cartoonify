{
  "nbformat": 4,
  "nbformat_minor": 0,
  "metadata": {
    "colab": {
      "provenance": []
    },
    "kernelspec": {
      "name": "python3",
      "display_name": "Python 3"
    },
    "language_info": {
      "name": "python"
    }
  },
  "cells": [
    {
      "cell_type": "code",
      "execution_count": null,
      "metadata": {
        "id": "VD1ruLtWok-I"
      },
      "outputs": [],
      "source": [
        "import pandas as pd\n",
        "\n",
        "import sklearn\n",
        "from sklearn.feature_selection import SelectFromModel\n",
        "from sklearn.ensemble import ExtraTreesClassifier\n",
        "from sklearn.ensemble import RandomForestClassifier\n",
        "from sklearn.metrics import plot_confusion_matrix\n",
        "from sklearn.metrics import confusion_matrix\n",
        "from sklearn.metrics import f1_score\n",
        "from sklearn.metrics import auc\n",
        "from sklearn.metrics import accuracy_score\n",
        "from sklearn.model_selection import train_test_split\n",
        "from sklearn.model_selection import cross_validate\n"
      ]
    },
    {
      "cell_type": "code",
      "source": [
        "\n",
        "MalwareDataset = pd.read_csv('https://raw.githubusercontent.com/oreilly-japan/ml-security-jp/master/ch03/MalwareData.csv.gz', sep='|')\n",
        "Legit = MalwareDataset[0:41323].drop(['legitimate'], axis=1)\n",
        "Malware = MalwareDataset[41323::].drop(['legitimate'], axis=1)\n"
      ],
      "metadata": {
        "id": "FpUrzfL2o_ND"
      },
      "execution_count": null,
      "outputs": []
    },
    {
      "cell_type": "code",
      "source": [
        "MalwareDataset.head()"
      ],
      "metadata": {
        "colab": {
          "base_uri": "https://localhost:8080/",
          "height": 299
        },
        "id": "u50Hx5eMtMXB",
        "outputId": "0201c068-4298-4f12-8fab-b8534ce83841"
      },
      "execution_count": null,
      "outputs": [
        {
          "output_type": "execute_result",
          "data": {
            "text/plain": [
              "           Name                               md5  Machine  \\\n",
              "0   memtest.exe  631ea355665f28d4707448e442fbf5b8      332   \n",
              "1       ose.exe  9d10f99a6712e28f8acd5641e3a7ea6b      332   \n",
              "2     setup.exe  4d92f518527353c0db88a70fddcfd390      332   \n",
              "3      DW20.EXE  a41e524f8d45f0074fd07805ff0c9b12      332   \n",
              "4  dwtrig20.exe  c87e561258f2f8650cef999bf643a731      332   \n",
              "\n",
              "   SizeOfOptionalHeader  Characteristics  MajorLinkerVersion  \\\n",
              "0                   224              258                   9   \n",
              "1                   224             3330                   9   \n",
              "2                   224             3330                   9   \n",
              "3                   224              258                   9   \n",
              "4                   224              258                   9   \n",
              "\n",
              "   MinorLinkerVersion  SizeOfCode  SizeOfInitializedData  \\\n",
              "0                   0      361984                 115712   \n",
              "1                   0      130560                  19968   \n",
              "2                   0      517120                 621568   \n",
              "3                   0      585728                 369152   \n",
              "4                   0      294912                 247296   \n",
              "\n",
              "   SizeOfUninitializedData  ...  ResourcesNb  ResourcesMeanEntropy  \\\n",
              "0                        0  ...            4              3.262823   \n",
              "1                        0  ...            2              4.250461   \n",
              "2                        0  ...           11              4.426324   \n",
              "3                        0  ...           10              4.364291   \n",
              "4                        0  ...            2              4.306100   \n",
              "\n",
              "   ResourcesMinEntropy  ResourcesMaxEntropy  ResourcesMeanSize  \\\n",
              "0             2.568844             3.537939        8797.000000   \n",
              "1             3.420744             5.080177         837.000000   \n",
              "2             2.846449             5.271813       31102.272727   \n",
              "3             2.669314             6.400720        1457.000000   \n",
              "4             3.421598             5.190603        1074.500000   \n",
              "\n",
              "   ResourcesMinSize  ResourcesMaxSize  LoadConfigurationSize  \\\n",
              "0               216             18032                      0   \n",
              "1               518              1156                     72   \n",
              "2               104            270376                     72   \n",
              "3                90              4264                     72   \n",
              "4               849              1300                     72   \n",
              "\n",
              "   VersionInformationSize  legitimate  \n",
              "0                      16           1  \n",
              "1                      18           1  \n",
              "2                      18           1  \n",
              "3                      18           1  \n",
              "4                      18           1  \n",
              "\n",
              "[5 rows x 57 columns]"
            ],
            "text/html": [
              "\n",
              "  <div id=\"df-dabbc350-b6f9-4657-8077-0fed2b0dca8b\">\n",
              "    <div class=\"colab-df-container\">\n",
              "      <div>\n",
              "<style scoped>\n",
              "    .dataframe tbody tr th:only-of-type {\n",
              "        vertical-align: middle;\n",
              "    }\n",
              "\n",
              "    .dataframe tbody tr th {\n",
              "        vertical-align: top;\n",
              "    }\n",
              "\n",
              "    .dataframe thead th {\n",
              "        text-align: right;\n",
              "    }\n",
              "</style>\n",
              "<table border=\"1\" class=\"dataframe\">\n",
              "  <thead>\n",
              "    <tr style=\"text-align: right;\">\n",
              "      <th></th>\n",
              "      <th>Name</th>\n",
              "      <th>md5</th>\n",
              "      <th>Machine</th>\n",
              "      <th>SizeOfOptionalHeader</th>\n",
              "      <th>Characteristics</th>\n",
              "      <th>MajorLinkerVersion</th>\n",
              "      <th>MinorLinkerVersion</th>\n",
              "      <th>SizeOfCode</th>\n",
              "      <th>SizeOfInitializedData</th>\n",
              "      <th>SizeOfUninitializedData</th>\n",
              "      <th>...</th>\n",
              "      <th>ResourcesNb</th>\n",
              "      <th>ResourcesMeanEntropy</th>\n",
              "      <th>ResourcesMinEntropy</th>\n",
              "      <th>ResourcesMaxEntropy</th>\n",
              "      <th>ResourcesMeanSize</th>\n",
              "      <th>ResourcesMinSize</th>\n",
              "      <th>ResourcesMaxSize</th>\n",
              "      <th>LoadConfigurationSize</th>\n",
              "      <th>VersionInformationSize</th>\n",
              "      <th>legitimate</th>\n",
              "    </tr>\n",
              "  </thead>\n",
              "  <tbody>\n",
              "    <tr>\n",
              "      <th>0</th>\n",
              "      <td>memtest.exe</td>\n",
              "      <td>631ea355665f28d4707448e442fbf5b8</td>\n",
              "      <td>332</td>\n",
              "      <td>224</td>\n",
              "      <td>258</td>\n",
              "      <td>9</td>\n",
              "      <td>0</td>\n",
              "      <td>361984</td>\n",
              "      <td>115712</td>\n",
              "      <td>0</td>\n",
              "      <td>...</td>\n",
              "      <td>4</td>\n",
              "      <td>3.262823</td>\n",
              "      <td>2.568844</td>\n",
              "      <td>3.537939</td>\n",
              "      <td>8797.000000</td>\n",
              "      <td>216</td>\n",
              "      <td>18032</td>\n",
              "      <td>0</td>\n",
              "      <td>16</td>\n",
              "      <td>1</td>\n",
              "    </tr>\n",
              "    <tr>\n",
              "      <th>1</th>\n",
              "      <td>ose.exe</td>\n",
              "      <td>9d10f99a6712e28f8acd5641e3a7ea6b</td>\n",
              "      <td>332</td>\n",
              "      <td>224</td>\n",
              "      <td>3330</td>\n",
              "      <td>9</td>\n",
              "      <td>0</td>\n",
              "      <td>130560</td>\n",
              "      <td>19968</td>\n",
              "      <td>0</td>\n",
              "      <td>...</td>\n",
              "      <td>2</td>\n",
              "      <td>4.250461</td>\n",
              "      <td>3.420744</td>\n",
              "      <td>5.080177</td>\n",
              "      <td>837.000000</td>\n",
              "      <td>518</td>\n",
              "      <td>1156</td>\n",
              "      <td>72</td>\n",
              "      <td>18</td>\n",
              "      <td>1</td>\n",
              "    </tr>\n",
              "    <tr>\n",
              "      <th>2</th>\n",
              "      <td>setup.exe</td>\n",
              "      <td>4d92f518527353c0db88a70fddcfd390</td>\n",
              "      <td>332</td>\n",
              "      <td>224</td>\n",
              "      <td>3330</td>\n",
              "      <td>9</td>\n",
              "      <td>0</td>\n",
              "      <td>517120</td>\n",
              "      <td>621568</td>\n",
              "      <td>0</td>\n",
              "      <td>...</td>\n",
              "      <td>11</td>\n",
              "      <td>4.426324</td>\n",
              "      <td>2.846449</td>\n",
              "      <td>5.271813</td>\n",
              "      <td>31102.272727</td>\n",
              "      <td>104</td>\n",
              "      <td>270376</td>\n",
              "      <td>72</td>\n",
              "      <td>18</td>\n",
              "      <td>1</td>\n",
              "    </tr>\n",
              "    <tr>\n",
              "      <th>3</th>\n",
              "      <td>DW20.EXE</td>\n",
              "      <td>a41e524f8d45f0074fd07805ff0c9b12</td>\n",
              "      <td>332</td>\n",
              "      <td>224</td>\n",
              "      <td>258</td>\n",
              "      <td>9</td>\n",
              "      <td>0</td>\n",
              "      <td>585728</td>\n",
              "      <td>369152</td>\n",
              "      <td>0</td>\n",
              "      <td>...</td>\n",
              "      <td>10</td>\n",
              "      <td>4.364291</td>\n",
              "      <td>2.669314</td>\n",
              "      <td>6.400720</td>\n",
              "      <td>1457.000000</td>\n",
              "      <td>90</td>\n",
              "      <td>4264</td>\n",
              "      <td>72</td>\n",
              "      <td>18</td>\n",
              "      <td>1</td>\n",
              "    </tr>\n",
              "    <tr>\n",
              "      <th>4</th>\n",
              "      <td>dwtrig20.exe</td>\n",
              "      <td>c87e561258f2f8650cef999bf643a731</td>\n",
              "      <td>332</td>\n",
              "      <td>224</td>\n",
              "      <td>258</td>\n",
              "      <td>9</td>\n",
              "      <td>0</td>\n",
              "      <td>294912</td>\n",
              "      <td>247296</td>\n",
              "      <td>0</td>\n",
              "      <td>...</td>\n",
              "      <td>2</td>\n",
              "      <td>4.306100</td>\n",
              "      <td>3.421598</td>\n",
              "      <td>5.190603</td>\n",
              "      <td>1074.500000</td>\n",
              "      <td>849</td>\n",
              "      <td>1300</td>\n",
              "      <td>72</td>\n",
              "      <td>18</td>\n",
              "      <td>1</td>\n",
              "    </tr>\n",
              "  </tbody>\n",
              "</table>\n",
              "<p>5 rows × 57 columns</p>\n",
              "</div>\n",
              "      <button class=\"colab-df-convert\" onclick=\"convertToInteractive('df-dabbc350-b6f9-4657-8077-0fed2b0dca8b')\"\n",
              "              title=\"Convert this dataframe to an interactive table.\"\n",
              "              style=\"display:none;\">\n",
              "        \n",
              "  <svg xmlns=\"http://www.w3.org/2000/svg\" height=\"24px\"viewBox=\"0 0 24 24\"\n",
              "       width=\"24px\">\n",
              "    <path d=\"M0 0h24v24H0V0z\" fill=\"none\"/>\n",
              "    <path d=\"M18.56 5.44l.94 2.06.94-2.06 2.06-.94-2.06-.94-.94-2.06-.94 2.06-2.06.94zm-11 1L8.5 8.5l.94-2.06 2.06-.94-2.06-.94L8.5 2.5l-.94 2.06-2.06.94zm10 10l.94 2.06.94-2.06 2.06-.94-2.06-.94-.94-2.06-.94 2.06-2.06.94z\"/><path d=\"M17.41 7.96l-1.37-1.37c-.4-.4-.92-.59-1.43-.59-.52 0-1.04.2-1.43.59L10.3 9.45l-7.72 7.72c-.78.78-.78 2.05 0 2.83L4 21.41c.39.39.9.59 1.41.59.51 0 1.02-.2 1.41-.59l7.78-7.78 2.81-2.81c.8-.78.8-2.07 0-2.86zM5.41 20L4 18.59l7.72-7.72 1.47 1.35L5.41 20z\"/>\n",
              "  </svg>\n",
              "      </button>\n",
              "      \n",
              "  <style>\n",
              "    .colab-df-container {\n",
              "      display:flex;\n",
              "      flex-wrap:wrap;\n",
              "      gap: 12px;\n",
              "    }\n",
              "\n",
              "    .colab-df-convert {\n",
              "      background-color: #E8F0FE;\n",
              "      border: none;\n",
              "      border-radius: 50%;\n",
              "      cursor: pointer;\n",
              "      display: none;\n",
              "      fill: #1967D2;\n",
              "      height: 32px;\n",
              "      padding: 0 0 0 0;\n",
              "      width: 32px;\n",
              "    }\n",
              "\n",
              "    .colab-df-convert:hover {\n",
              "      background-color: #E2EBFA;\n",
              "      box-shadow: 0px 1px 2px rgba(60, 64, 67, 0.3), 0px 1px 3px 1px rgba(60, 64, 67, 0.15);\n",
              "      fill: #174EA6;\n",
              "    }\n",
              "\n",
              "    [theme=dark] .colab-df-convert {\n",
              "      background-color: #3B4455;\n",
              "      fill: #D2E3FC;\n",
              "    }\n",
              "\n",
              "    [theme=dark] .colab-df-convert:hover {\n",
              "      background-color: #434B5C;\n",
              "      box-shadow: 0px 1px 3px 1px rgba(0, 0, 0, 0.15);\n",
              "      filter: drop-shadow(0px 1px 2px rgba(0, 0, 0, 0.3));\n",
              "      fill: #FFFFFF;\n",
              "    }\n",
              "  </style>\n",
              "\n",
              "      <script>\n",
              "        const buttonEl =\n",
              "          document.querySelector('#df-dabbc350-b6f9-4657-8077-0fed2b0dca8b button.colab-df-convert');\n",
              "        buttonEl.style.display =\n",
              "          google.colab.kernel.accessAllowed ? 'block' : 'none';\n",
              "\n",
              "        async function convertToInteractive(key) {\n",
              "          const element = document.querySelector('#df-dabbc350-b6f9-4657-8077-0fed2b0dca8b');\n",
              "          const dataTable =\n",
              "            await google.colab.kernel.invokeFunction('convertToInteractive',\n",
              "                                                     [key], {});\n",
              "          if (!dataTable) return;\n",
              "\n",
              "          const docLinkHtml = 'Like what you see? Visit the ' +\n",
              "            '<a target=\"_blank\" href=https://colab.research.google.com/notebooks/data_table.ipynb>data table notebook</a>'\n",
              "            + ' to learn more about interactive tables.';\n",
              "          element.innerHTML = '';\n",
              "          dataTable['output_type'] = 'display_data';\n",
              "          await google.colab.output.renderOutput(dataTable, element);\n",
              "          const docLink = document.createElement('div');\n",
              "          docLink.innerHTML = docLinkHtml;\n",
              "          element.appendChild(docLink);\n",
              "        }\n",
              "      </script>\n",
              "    </div>\n",
              "  </div>\n",
              "  "
            ]
          },
          "metadata": {},
          "execution_count": 16
        }
      ]
    },
    {
      "cell_type": "code",
      "source": [
        "MalwareDataset.describe()"
      ],
      "metadata": {
        "colab": {
          "base_uri": "https://localhost:8080/",
          "height": 393
        },
        "id": "1rIzGCIrtlBB",
        "outputId": "ff567a4b-787e-450d-f802-c08ee609d9c4"
      },
      "execution_count": null,
      "outputs": [
        {
          "output_type": "execute_result",
          "data": {
            "text/plain": [
              "             Machine  SizeOfOptionalHeader  Characteristics  \\\n",
              "count  138047.000000         138047.000000    138047.000000   \n",
              "mean     4259.069274            225.845632      4444.145994   \n",
              "std     10880.347245              5.121399      8186.782524   \n",
              "min       332.000000            224.000000         2.000000   \n",
              "25%       332.000000            224.000000       258.000000   \n",
              "50%       332.000000            224.000000       258.000000   \n",
              "75%       332.000000            224.000000      8226.000000   \n",
              "max     34404.000000            352.000000     49551.000000   \n",
              "\n",
              "       MajorLinkerVersion  MinorLinkerVersion    SizeOfCode  \\\n",
              "count       138047.000000       138047.000000  1.380470e+05   \n",
              "mean             8.619774            3.819286  2.425956e+05   \n",
              "std              4.088757           11.862675  5.754485e+06   \n",
              "min              0.000000            0.000000  0.000000e+00   \n",
              "25%              8.000000            0.000000  3.020800e+04   \n",
              "50%              9.000000            0.000000  1.136640e+05   \n",
              "75%             10.000000            0.000000  1.203200e+05   \n",
              "max            255.000000          255.000000  1.818587e+09   \n",
              "\n",
              "       SizeOfInitializedData  SizeOfUninitializedData  AddressOfEntryPoint  \\\n",
              "count           1.380470e+05             1.380470e+05         1.380470e+05   \n",
              "mean            4.504867e+05             1.009525e+05         1.719561e+05   \n",
              "std             2.101599e+07             1.635288e+07         3.430553e+06   \n",
              "min             0.000000e+00             0.000000e+00         0.000000e+00   \n",
              "25%             2.457600e+04             0.000000e+00         1.272100e+04   \n",
              "50%             2.631680e+05             0.000000e+00         5.288300e+04   \n",
              "75%             3.850240e+05             0.000000e+00         6.157800e+04   \n",
              "max             4.294966e+09             4.294941e+09         1.074484e+09   \n",
              "\n",
              "         BaseOfCode  ...    ResourcesNb  ResourcesMeanEntropy  \\\n",
              "count  1.380470e+05  ...  138047.000000         138047.000000   \n",
              "mean   5.779845e+04  ...      22.050700              4.000127   \n",
              "std    5.527658e+06  ...     136.494244              1.112981   \n",
              "min    0.000000e+00  ...       0.000000              0.000000   \n",
              "25%    4.096000e+03  ...       5.000000              3.458505   \n",
              "50%    4.096000e+03  ...       6.000000              3.729824   \n",
              "75%    4.096000e+03  ...      13.000000              4.233051   \n",
              "max    2.028711e+09  ...    7694.000000              7.999723   \n",
              "\n",
              "       ResourcesMinEntropy  ResourcesMaxEntropy  ResourcesMeanSize  \\\n",
              "count        138047.000000        138047.000000       1.380470e+05   \n",
              "mean              2.434541             5.521610       5.545093e+04   \n",
              "std               0.815577             1.597403       7.799163e+06   \n",
              "min               0.000000             0.000000       0.000000e+00   \n",
              "25%               2.178748             4.828706       9.560000e+02   \n",
              "50%               2.458492             5.317552       2.708154e+03   \n",
              "75%               2.696833             6.502239       6.558429e+03   \n",
              "max               7.999723             8.000000       2.415919e+09   \n",
              "\n",
              "       ResourcesMinSize  ResourcesMaxSize  LoadConfigurationSize  \\\n",
              "count      1.380470e+05      1.380470e+05           1.380470e+05   \n",
              "mean       1.818082e+04      2.465903e+05           4.656750e+05   \n",
              "std        6.502369e+06      2.124860e+07           2.608987e+07   \n",
              "min        0.000000e+00      0.000000e+00           0.000000e+00   \n",
              "25%        4.800000e+01      2.216000e+03           0.000000e+00   \n",
              "50%        4.800000e+01      9.640000e+03           7.200000e+01   \n",
              "75%        1.320000e+02      2.378000e+04           7.200000e+01   \n",
              "max        2.415919e+09      4.294903e+09           4.294967e+09   \n",
              "\n",
              "       VersionInformationSize     legitimate  \n",
              "count           138047.000000  138047.000000  \n",
              "mean                12.363115       0.299340  \n",
              "std                  6.798878       0.457971  \n",
              "min                  0.000000       0.000000  \n",
              "25%                 13.000000       0.000000  \n",
              "50%                 15.000000       0.000000  \n",
              "75%                 16.000000       1.000000  \n",
              "max                 26.000000       1.000000  \n",
              "\n",
              "[8 rows x 55 columns]"
            ],
            "text/html": [
              "\n",
              "  <div id=\"df-1957cea0-bb02-4529-b552-2403bb04e2bd\">\n",
              "    <div class=\"colab-df-container\">\n",
              "      <div>\n",
              "<style scoped>\n",
              "    .dataframe tbody tr th:only-of-type {\n",
              "        vertical-align: middle;\n",
              "    }\n",
              "\n",
              "    .dataframe tbody tr th {\n",
              "        vertical-align: top;\n",
              "    }\n",
              "\n",
              "    .dataframe thead th {\n",
              "        text-align: right;\n",
              "    }\n",
              "</style>\n",
              "<table border=\"1\" class=\"dataframe\">\n",
              "  <thead>\n",
              "    <tr style=\"text-align: right;\">\n",
              "      <th></th>\n",
              "      <th>Machine</th>\n",
              "      <th>SizeOfOptionalHeader</th>\n",
              "      <th>Characteristics</th>\n",
              "      <th>MajorLinkerVersion</th>\n",
              "      <th>MinorLinkerVersion</th>\n",
              "      <th>SizeOfCode</th>\n",
              "      <th>SizeOfInitializedData</th>\n",
              "      <th>SizeOfUninitializedData</th>\n",
              "      <th>AddressOfEntryPoint</th>\n",
              "      <th>BaseOfCode</th>\n",
              "      <th>...</th>\n",
              "      <th>ResourcesNb</th>\n",
              "      <th>ResourcesMeanEntropy</th>\n",
              "      <th>ResourcesMinEntropy</th>\n",
              "      <th>ResourcesMaxEntropy</th>\n",
              "      <th>ResourcesMeanSize</th>\n",
              "      <th>ResourcesMinSize</th>\n",
              "      <th>ResourcesMaxSize</th>\n",
              "      <th>LoadConfigurationSize</th>\n",
              "      <th>VersionInformationSize</th>\n",
              "      <th>legitimate</th>\n",
              "    </tr>\n",
              "  </thead>\n",
              "  <tbody>\n",
              "    <tr>\n",
              "      <th>count</th>\n",
              "      <td>138047.000000</td>\n",
              "      <td>138047.000000</td>\n",
              "      <td>138047.000000</td>\n",
              "      <td>138047.000000</td>\n",
              "      <td>138047.000000</td>\n",
              "      <td>1.380470e+05</td>\n",
              "      <td>1.380470e+05</td>\n",
              "      <td>1.380470e+05</td>\n",
              "      <td>1.380470e+05</td>\n",
              "      <td>1.380470e+05</td>\n",
              "      <td>...</td>\n",
              "      <td>138047.000000</td>\n",
              "      <td>138047.000000</td>\n",
              "      <td>138047.000000</td>\n",
              "      <td>138047.000000</td>\n",
              "      <td>1.380470e+05</td>\n",
              "      <td>1.380470e+05</td>\n",
              "      <td>1.380470e+05</td>\n",
              "      <td>1.380470e+05</td>\n",
              "      <td>138047.000000</td>\n",
              "      <td>138047.000000</td>\n",
              "    </tr>\n",
              "    <tr>\n",
              "      <th>mean</th>\n",
              "      <td>4259.069274</td>\n",
              "      <td>225.845632</td>\n",
              "      <td>4444.145994</td>\n",
              "      <td>8.619774</td>\n",
              "      <td>3.819286</td>\n",
              "      <td>2.425956e+05</td>\n",
              "      <td>4.504867e+05</td>\n",
              "      <td>1.009525e+05</td>\n",
              "      <td>1.719561e+05</td>\n",
              "      <td>5.779845e+04</td>\n",
              "      <td>...</td>\n",
              "      <td>22.050700</td>\n",
              "      <td>4.000127</td>\n",
              "      <td>2.434541</td>\n",
              "      <td>5.521610</td>\n",
              "      <td>5.545093e+04</td>\n",
              "      <td>1.818082e+04</td>\n",
              "      <td>2.465903e+05</td>\n",
              "      <td>4.656750e+05</td>\n",
              "      <td>12.363115</td>\n",
              "      <td>0.299340</td>\n",
              "    </tr>\n",
              "    <tr>\n",
              "      <th>std</th>\n",
              "      <td>10880.347245</td>\n",
              "      <td>5.121399</td>\n",
              "      <td>8186.782524</td>\n",
              "      <td>4.088757</td>\n",
              "      <td>11.862675</td>\n",
              "      <td>5.754485e+06</td>\n",
              "      <td>2.101599e+07</td>\n",
              "      <td>1.635288e+07</td>\n",
              "      <td>3.430553e+06</td>\n",
              "      <td>5.527658e+06</td>\n",
              "      <td>...</td>\n",
              "      <td>136.494244</td>\n",
              "      <td>1.112981</td>\n",
              "      <td>0.815577</td>\n",
              "      <td>1.597403</td>\n",
              "      <td>7.799163e+06</td>\n",
              "      <td>6.502369e+06</td>\n",
              "      <td>2.124860e+07</td>\n",
              "      <td>2.608987e+07</td>\n",
              "      <td>6.798878</td>\n",
              "      <td>0.457971</td>\n",
              "    </tr>\n",
              "    <tr>\n",
              "      <th>min</th>\n",
              "      <td>332.000000</td>\n",
              "      <td>224.000000</td>\n",
              "      <td>2.000000</td>\n",
              "      <td>0.000000</td>\n",
              "      <td>0.000000</td>\n",
              "      <td>0.000000e+00</td>\n",
              "      <td>0.000000e+00</td>\n",
              "      <td>0.000000e+00</td>\n",
              "      <td>0.000000e+00</td>\n",
              "      <td>0.000000e+00</td>\n",
              "      <td>...</td>\n",
              "      <td>0.000000</td>\n",
              "      <td>0.000000</td>\n",
              "      <td>0.000000</td>\n",
              "      <td>0.000000</td>\n",
              "      <td>0.000000e+00</td>\n",
              "      <td>0.000000e+00</td>\n",
              "      <td>0.000000e+00</td>\n",
              "      <td>0.000000e+00</td>\n",
              "      <td>0.000000</td>\n",
              "      <td>0.000000</td>\n",
              "    </tr>\n",
              "    <tr>\n",
              "      <th>25%</th>\n",
              "      <td>332.000000</td>\n",
              "      <td>224.000000</td>\n",
              "      <td>258.000000</td>\n",
              "      <td>8.000000</td>\n",
              "      <td>0.000000</td>\n",
              "      <td>3.020800e+04</td>\n",
              "      <td>2.457600e+04</td>\n",
              "      <td>0.000000e+00</td>\n",
              "      <td>1.272100e+04</td>\n",
              "      <td>4.096000e+03</td>\n",
              "      <td>...</td>\n",
              "      <td>5.000000</td>\n",
              "      <td>3.458505</td>\n",
              "      <td>2.178748</td>\n",
              "      <td>4.828706</td>\n",
              "      <td>9.560000e+02</td>\n",
              "      <td>4.800000e+01</td>\n",
              "      <td>2.216000e+03</td>\n",
              "      <td>0.000000e+00</td>\n",
              "      <td>13.000000</td>\n",
              "      <td>0.000000</td>\n",
              "    </tr>\n",
              "    <tr>\n",
              "      <th>50%</th>\n",
              "      <td>332.000000</td>\n",
              "      <td>224.000000</td>\n",
              "      <td>258.000000</td>\n",
              "      <td>9.000000</td>\n",
              "      <td>0.000000</td>\n",
              "      <td>1.136640e+05</td>\n",
              "      <td>2.631680e+05</td>\n",
              "      <td>0.000000e+00</td>\n",
              "      <td>5.288300e+04</td>\n",
              "      <td>4.096000e+03</td>\n",
              "      <td>...</td>\n",
              "      <td>6.000000</td>\n",
              "      <td>3.729824</td>\n",
              "      <td>2.458492</td>\n",
              "      <td>5.317552</td>\n",
              "      <td>2.708154e+03</td>\n",
              "      <td>4.800000e+01</td>\n",
              "      <td>9.640000e+03</td>\n",
              "      <td>7.200000e+01</td>\n",
              "      <td>15.000000</td>\n",
              "      <td>0.000000</td>\n",
              "    </tr>\n",
              "    <tr>\n",
              "      <th>75%</th>\n",
              "      <td>332.000000</td>\n",
              "      <td>224.000000</td>\n",
              "      <td>8226.000000</td>\n",
              "      <td>10.000000</td>\n",
              "      <td>0.000000</td>\n",
              "      <td>1.203200e+05</td>\n",
              "      <td>3.850240e+05</td>\n",
              "      <td>0.000000e+00</td>\n",
              "      <td>6.157800e+04</td>\n",
              "      <td>4.096000e+03</td>\n",
              "      <td>...</td>\n",
              "      <td>13.000000</td>\n",
              "      <td>4.233051</td>\n",
              "      <td>2.696833</td>\n",
              "      <td>6.502239</td>\n",
              "      <td>6.558429e+03</td>\n",
              "      <td>1.320000e+02</td>\n",
              "      <td>2.378000e+04</td>\n",
              "      <td>7.200000e+01</td>\n",
              "      <td>16.000000</td>\n",
              "      <td>1.000000</td>\n",
              "    </tr>\n",
              "    <tr>\n",
              "      <th>max</th>\n",
              "      <td>34404.000000</td>\n",
              "      <td>352.000000</td>\n",
              "      <td>49551.000000</td>\n",
              "      <td>255.000000</td>\n",
              "      <td>255.000000</td>\n",
              "      <td>1.818587e+09</td>\n",
              "      <td>4.294966e+09</td>\n",
              "      <td>4.294941e+09</td>\n",
              "      <td>1.074484e+09</td>\n",
              "      <td>2.028711e+09</td>\n",
              "      <td>...</td>\n",
              "      <td>7694.000000</td>\n",
              "      <td>7.999723</td>\n",
              "      <td>7.999723</td>\n",
              "      <td>8.000000</td>\n",
              "      <td>2.415919e+09</td>\n",
              "      <td>2.415919e+09</td>\n",
              "      <td>4.294903e+09</td>\n",
              "      <td>4.294967e+09</td>\n",
              "      <td>26.000000</td>\n",
              "      <td>1.000000</td>\n",
              "    </tr>\n",
              "  </tbody>\n",
              "</table>\n",
              "<p>8 rows × 55 columns</p>\n",
              "</div>\n",
              "      <button class=\"colab-df-convert\" onclick=\"convertToInteractive('df-1957cea0-bb02-4529-b552-2403bb04e2bd')\"\n",
              "              title=\"Convert this dataframe to an interactive table.\"\n",
              "              style=\"display:none;\">\n",
              "        \n",
              "  <svg xmlns=\"http://www.w3.org/2000/svg\" height=\"24px\"viewBox=\"0 0 24 24\"\n",
              "       width=\"24px\">\n",
              "    <path d=\"M0 0h24v24H0V0z\" fill=\"none\"/>\n",
              "    <path d=\"M18.56 5.44l.94 2.06.94-2.06 2.06-.94-2.06-.94-.94-2.06-.94 2.06-2.06.94zm-11 1L8.5 8.5l.94-2.06 2.06-.94-2.06-.94L8.5 2.5l-.94 2.06-2.06.94zm10 10l.94 2.06.94-2.06 2.06-.94-2.06-.94-.94-2.06-.94 2.06-2.06.94z\"/><path d=\"M17.41 7.96l-1.37-1.37c-.4-.4-.92-.59-1.43-.59-.52 0-1.04.2-1.43.59L10.3 9.45l-7.72 7.72c-.78.78-.78 2.05 0 2.83L4 21.41c.39.39.9.59 1.41.59.51 0 1.02-.2 1.41-.59l7.78-7.78 2.81-2.81c.8-.78.8-2.07 0-2.86zM5.41 20L4 18.59l7.72-7.72 1.47 1.35L5.41 20z\"/>\n",
              "  </svg>\n",
              "      </button>\n",
              "      \n",
              "  <style>\n",
              "    .colab-df-container {\n",
              "      display:flex;\n",
              "      flex-wrap:wrap;\n",
              "      gap: 12px;\n",
              "    }\n",
              "\n",
              "    .colab-df-convert {\n",
              "      background-color: #E8F0FE;\n",
              "      border: none;\n",
              "      border-radius: 50%;\n",
              "      cursor: pointer;\n",
              "      display: none;\n",
              "      fill: #1967D2;\n",
              "      height: 32px;\n",
              "      padding: 0 0 0 0;\n",
              "      width: 32px;\n",
              "    }\n",
              "\n",
              "    .colab-df-convert:hover {\n",
              "      background-color: #E2EBFA;\n",
              "      box-shadow: 0px 1px 2px rgba(60, 64, 67, 0.3), 0px 1px 3px 1px rgba(60, 64, 67, 0.15);\n",
              "      fill: #174EA6;\n",
              "    }\n",
              "\n",
              "    [theme=dark] .colab-df-convert {\n",
              "      background-color: #3B4455;\n",
              "      fill: #D2E3FC;\n",
              "    }\n",
              "\n",
              "    [theme=dark] .colab-df-convert:hover {\n",
              "      background-color: #434B5C;\n",
              "      box-shadow: 0px 1px 3px 1px rgba(0, 0, 0, 0.15);\n",
              "      filter: drop-shadow(0px 1px 2px rgba(0, 0, 0, 0.3));\n",
              "      fill: #FFFFFF;\n",
              "    }\n",
              "  </style>\n",
              "\n",
              "      <script>\n",
              "        const buttonEl =\n",
              "          document.querySelector('#df-1957cea0-bb02-4529-b552-2403bb04e2bd button.colab-df-convert');\n",
              "        buttonEl.style.display =\n",
              "          google.colab.kernel.accessAllowed ? 'block' : 'none';\n",
              "\n",
              "        async function convertToInteractive(key) {\n",
              "          const element = document.querySelector('#df-1957cea0-bb02-4529-b552-2403bb04e2bd');\n",
              "          const dataTable =\n",
              "            await google.colab.kernel.invokeFunction('convertToInteractive',\n",
              "                                                     [key], {});\n",
              "          if (!dataTable) return;\n",
              "\n",
              "          const docLinkHtml = 'Like what you see? Visit the ' +\n",
              "            '<a target=\"_blank\" href=https://colab.research.google.com/notebooks/data_table.ipynb>data table notebook</a>'\n",
              "            + ' to learn more about interactive tables.';\n",
              "          element.innerHTML = '';\n",
              "          dataTable['output_type'] = 'display_data';\n",
              "          await google.colab.output.renderOutput(dataTable, element);\n",
              "          const docLink = document.createElement('div');\n",
              "          docLink.innerHTML = docLinkHtml;\n",
              "          element.appendChild(docLink);\n",
              "        }\n",
              "      </script>\n",
              "    </div>\n",
              "  </div>\n",
              "  "
            ]
          },
          "metadata": {},
          "execution_count": 17
        }
      ]
    },
    {
      "cell_type": "code",
      "source": [
        "MalwareDataset.shape"
      ],
      "metadata": {
        "colab": {
          "base_uri": "https://localhost:8080/"
        },
        "id": "ryR-HZYItrXS",
        "outputId": "cdbe8124-66ad-4d2c-d08d-f48a9bdbeef7"
      },
      "execution_count": null,
      "outputs": [
        {
          "output_type": "execute_result",
          "data": {
            "text/plain": [
              "(138047, 57)"
            ]
          },
          "metadata": {},
          "execution_count": 18
        }
      ]
    },
    {
      "cell_type": "code",
      "source": [
        "import matplotlib.pyplot as plt\n",
        "fig=plt.figure()\n",
        "x=fig.add_axes([0,0,1,1])\n",
        "x.hist(MalwareDataset['legitimate'],20)\n",
        "plt.show"
      ],
      "metadata": {
        "colab": {
          "base_uri": "https://localhost:8080/",
          "height": 354
        },
        "id": "MtyW-FAg0F0i",
        "outputId": "dd238b5e-b381-4ef0-c3d2-eaee59c38514"
      },
      "execution_count": null,
      "outputs": [
        {
          "output_type": "execute_result",
          "data": {
            "text/plain": [
              "<function matplotlib.pyplot.show(*args, **kw)>"
            ]
          },
          "metadata": {},
          "execution_count": 23
        },
        {
          "output_type": "display_data",
          "data": {
            "text/plain": [
              "<Figure size 432x288 with 1 Axes>"
            ],
            "image/png": "[encoded data removed]"
          },
          "metadata": {
            "needs_background": "light"
          }
        }
      ]
    },
    {
      "cell_type": "code",
      "source": [
        "\n",
        "print('The Number of important features is %i \\n' % Legit.shape[1])\n",
        "Data = MalwareDataset.drop(['Name', 'md5', 'legitimate'], axis=1).values\n",
        "Target = MalwareDataset['legitimate'].values \n",
        "FeatSelect = sklearn.ensemble.ExtraTreesClassifier().fit(Data, Target)\n",
        "Model = SelectFromModel(FeatSelect, prefit=True)\n",
        "Data_new = Model.transform(Data)\n",
        " "
      ],
      "metadata": {
        "colab": {
          "base_uri": "https://localhost:8080/"
        },
        "id": "FkY2aKGhpCJ-",
        "outputId": "1e6a8fdc-2888-471f-ee46-008a40879bd3"
      },
      "execution_count": null,
      "outputs": [
        {
          "output_type": "stream",
          "name": "stdout",
          "text": [
            "The Number of important features is 56 \n",
            "\n"
          ]
        }
      ]
    },
    {
      "cell_type": "code",
      "source": [
        "from sklearn.model_selection import train_test_split"
      ],
      "metadata": {
        "id": "9CLMwkz3rfzU"
      },
      "execution_count": null,
      "outputs": []
    },
    {
      "cell_type": "markdown",
      "source": [
        "splitting"
      ],
      "metadata": {
        "id": "E4uLcMIFxfd_"
      }
    },
    {
      "cell_type": "code",
      "source": [
        "\n",
        "Legit_Train, Legit_Test, Malware_Train, Malware_Test = train_test_split(Data_new, Target ,test_size=0.2)\n"
      ],
      "metadata": {
        "id": "lpdk4SZypDzP"
      },
      "execution_count": null,
      "outputs": []
    },
    {
      "cell_type": "markdown",
      "source": [
        "random forest evaluation"
      ],
      "metadata": {
        "id": "AQve1e9TxhLf"
      }
    },
    {
      "cell_type": "code",
      "source": [
        "\n",
        "clf = sklearn.ensemble.RandomForestClassifier(n_estimators=50)\n",
        "randomModel=clf.fit(Legit_Train, Malware_Train)\n"
      ],
      "metadata": {
        "id": "5PkzIn-GpFHa"
      },
      "execution_count": null,
      "outputs": []
    },
    {
      "cell_type": "code",
      "source": [
        "train_pred=randomModel.predict(Legit_Train)"
      ],
      "metadata": {
        "id": "waQgiLq9xpma"
      },
      "execution_count": null,
      "outputs": []
    },
    {
      "cell_type": "code",
      "source": [
        "accuracy_score(Malware_Train,train_pred)"
      ],
      "metadata": {
        "colab": {
          "base_uri": "https://localhost:8080/"
        },
        "id": "leQ9_y3x1mHh",
        "outputId": "34ccb652-d008-4f90-a9e8-a975d971cdc6"
      },
      "execution_count": null,
      "outputs": [
        {
          "output_type": "execute_result",
          "data": {
            "text/plain": [
              "0.9998732308918207"
            ]
          },
          "metadata": {},
          "execution_count": 28
        }
      ]
    },
    {
      "cell_type": "code",
      "source": [
        "f1_score(Malware_Train,train_pred)"
      ],
      "metadata": {
        "colab": {
          "base_uri": "https://localhost:8080/"
        },
        "id": "X_dVAi_82Prp",
        "outputId": "c43fa20a-fb8a-4060-813d-ec7bf24b2890"
      },
      "execution_count": null,
      "outputs": [
        {
          "output_type": "execute_result",
          "data": {
            "text/plain": [
              "0.9997874536952693"
            ]
          },
          "metadata": {},
          "execution_count": 29
        }
      ]
    },
    {
      "cell_type": "code",
      "source": [
        "\n",
        "score = clf.score(Legit_Test, Malware_Test)\n",
        "print(\"The score of Random Forest Algorithm is\", score*100)\n"
      ],
      "metadata": {
        "colab": {
          "base_uri": "https://localhost:8080/"
        },
        "id": "2mq7gAi6pGYB",
        "outputId": "efd11105-6d78-4bf6-8cce-72d09d01c7e8"
      },
      "execution_count": null,
      "outputs": [
        {
          "output_type": "stream",
          "name": "stdout",
          "text": [
            "The score of Random Forest Algorithm is 99.40601231437884\n"
          ]
        }
      ]
    },
    {
      "cell_type": "code",
      "source": [
        "##Confusion matric"
      ],
      "metadata": {
        "id": "VBvMGkxf2htU"
      },
      "execution_count": null,
      "outputs": []
    },
    {
      "cell_type": "code",
      "source": [
        "titles=[('matric without normalization',None),('normalized','true')]"
      ],
      "metadata": {
        "id": "Pl9ijEcy28vS"
      },
      "execution_count": null,
      "outputs": []
    },
    {
      "cell_type": "code",
      "source": [
        "for title,normalize in titles:\n",
        "  disp=plot_confusion_matrix(randomModel,Legit_Test,Malware_Test,display_labels='legitimate',cmap=plt.cm.Blues,normalize=normalize)\n",
        "  disp.ax_.set_title(title)\n",
        "  print(title)\n",
        "  print(disp.confusion_matrix)\n",
        "  plt.show()\n"
      ],
      "metadata": {
        "colab": {
          "base_uri": "https://localhost:8080/",
          "height": 775
        },
        "id": "6xNRlj3s3Ltw",
        "outputId": "fb0b5465-44bc-4c21-b307-687b0f172331"
      },
      "execution_count": null,
      "outputs": [
        {
          "output_type": "stream",
          "name": "stderr",
          "text": [
            "/usr/local/lib/python3.8/dist-packages/sklearn/utils/deprecation.py:87: FutureWarning: Function plot_confusion_matrix is deprecated; Function `plot_confusion_matrix` is deprecated in 1.0 and will be removed in 1.2. Use one of the class methods: ConfusionMatrixDisplay.from_predictions or ConfusionMatrixDisplay.from_estimator.\n",
            "  warnings.warn(msg, category=FutureWarning)\n"
          ]
        },
        {
          "output_type": "stream",
          "name": "stdout",
          "text": [
            "matric without normalization\n",
            "[[19137    85]\n",
            " [   66  8322]]\n"
          ]
        },
        {
          "output_type": "display_data",
          "data": {
            "text/plain": [
              "<Figure size 432x288 with 2 Axes>"
            ],
            "image/png": "[encoded data removed]"
          },
          "metadata": {
            "needs_background": "light"
          }
        },
        {
          "output_type": "stream",
          "name": "stderr",
          "text": [
            "/usr/local/lib/python3.8/dist-packages/sklearn/utils/deprecation.py:87: FutureWarning: Function plot_confusion_matrix is deprecated; Function `plot_confusion_matrix` is deprecated in 1.0 and will be removed in 1.2. Use one of the class methods: ConfusionMatrixDisplay.from_predictions or ConfusionMatrixDisplay.from_estimator.\n",
            "  warnings.warn(msg, category=FutureWarning)\n"
          ]
        },
        {
          "output_type": "stream",
          "name": "stdout",
          "text": [
            "normalized\n",
            "[[0.99557798 0.00442202]\n",
            " [0.00786838 0.99213162]]\n"
          ]
        },
        {
          "output_type": "display_data",
          "data": {
            "text/plain": [
              "<Figure size 432x288 with 2 Axes>"
            ],
            "image/png": "[encoded data removed]"
          },
          "metadata": {
            "needs_background": "light"
          }
        }
      ]
    },
    {
      "cell_type": "code",
      "source": [
        "\n",
        "Result = clf.predict(Legit_Test)\n",
        "CM = confusion_matrix(Malware_Test, Result)\n",
        "print(\"False positive rate : %f %%\" % ((CM[0][1] / float(sum(CM[0])))*100))\n",
        "print('False negative rate : %f %%' % ( (CM[1][0] /float(sum(CM[1]))*100)))"
      ],
      "metadata": {
        "colab": {
          "base_uri": "https://localhost:8080/"
        },
        "id": "Nss9StIzpHsY",
        "outputId": "74585ba4-dd2a-42b8-e227-3518c877de36"
      },
      "execution_count": null,
      "outputs": [
        {
          "output_type": "stream",
          "name": "stdout",
          "text": [
            "False positive rate : 0.489023 %\n",
            "False negative rate : 0.834526 %\n"
          ]
        }
      ]
    },
    {
      "cell_type": "markdown",
      "source": [
        "Logistic Regression"
      ],
      "metadata": {
        "id": "LDmb9srS4h_p"
      }
    },
    {
      "cell_type": "code",
      "source": [
        "from sklearn.linear_model import LogisticRegression"
      ],
      "metadata": {
        "id": "pSSGb_E74he2"
      },
      "execution_count": null,
      "outputs": []
    },
    {
      "cell_type": "code",
      "source": [
        "clf=LogisticRegression(random_state=0)\n",
        "LModel=clf.fit(Legit_Train,Malware_Train)"
      ],
      "metadata": {
        "colab": {
          "base_uri": "https://localhost:8080/"
        },
        "id": "e7DvKUXD40ki",
        "outputId": "53ce4d4f-7993-40d4-9783-a48af51ddfe9"
      },
      "execution_count": null,
      "outputs": [
        {
          "output_type": "stream",
          "name": "stderr",
          "text": [
            "/usr/local/lib/python3.8/dist-packages/sklearn/linear_model/_logistic.py:814: ConvergenceWarning: lbfgs failed to converge (status=2):\n",
            "ABNORMAL_TERMINATION_IN_LNSRCH.\n",
            "\n",
            "Increase the number of iterations (max_iter) or scale the data as shown in:\n",
            "    https://scikit-learn.org/stable/modules/preprocessing.html\n",
            "Please also refer to the documentation for alternative solver options:\n",
            "    https://scikit-learn.org/stable/modules/linear_model.html#logistic-regression\n",
            "  n_iter_i = _check_optimize_result(\n"
          ]
        }
      ]
    },
    {
      "cell_type": "markdown",
      "source": [
        "Model Evaluation"
      ],
      "metadata": {
        "id": "j6027Ds35Jhh"
      }
    },
    {
      "cell_type": "code",
      "source": [
        "#accuracy of train\n",
        "train_log=LModel.predict(Legit_Train)\n",
        "accuracy_score(Malware_Train,train_log)"
      ],
      "metadata": {
        "colab": {
          "base_uri": "https://localhost:8080/"
        },
        "id": "M6qJhxYz5JRP",
        "outputId": "69de6250-2624-4d61-be4f-768b48cc2d86"
      },
      "execution_count": null,
      "outputs": [
        {
          "output_type": "execute_result",
          "data": {
            "text/plain": [
              "0.7017756730081404"
            ]
          },
          "metadata": {},
          "execution_count": 40
        }
      ]
    },
    {
      "cell_type": "code",
      "source": [
        "#accuracy of test\n",
        "pred=LModel.predict(Legit_Test)\n",
        "accuracy_score(Malware_Test,pred)"
      ],
      "metadata": {
        "colab": {
          "base_uri": "https://localhost:8080/"
        },
        "id": "j4fPi--75Zby",
        "outputId": "a9b1b4ee-28b3-4154-c4eb-4d735c32aede"
      },
      "execution_count": null,
      "outputs": [
        {
          "output_type": "execute_result",
          "data": {
            "text/plain": [
              "0.6961970300615719"
            ]
          },
          "metadata": {},
          "execution_count": 41
        }
      ]
    },
    {
      "cell_type": "code",
      "source": [
        "f1_score(Malware_Test,pred)\n",
        "#log regression wont work as good"
      ],
      "metadata": {
        "colab": {
          "base_uri": "https://localhost:8080/"
        },
        "id": "bNYYhwUS5pg5",
        "outputId": "5565bf1d-3201-4b16-bbf3-06c0de5100ea"
      },
      "execution_count": null,
      "outputs": [
        {
          "output_type": "execute_result",
          "data": {
            "text/plain": [
              "0.0"
            ]
          },
          "metadata": {},
          "execution_count": 42
        }
      ]
    },
    {
      "cell_type": "code",
      "source": [
        "titles=[('matric without normalization',None),('normalized','true')]\n",
        "for title,normalize in titles:\n",
        "  disp=plot_confusion_matrix(LModel,Legit_Test,Malware_Test,display_labels='legitimate',cmap=plt.cm.Blues,normalize=normalize)\n",
        "  disp.ax_.set_title(title)\n",
        "  print(title)\n",
        "  print(disp.confusion_matrix)\n",
        "  plt.show()\n"
      ],
      "metadata": {
        "colab": {
          "base_uri": "https://localhost:8080/",
          "height": 775
        },
        "id": "g_6CJ_Le5zfY",
        "outputId": "d41811bf-38c9-4adf-dbda-22efefb2ae14"
      },
      "execution_count": null,
      "outputs": [
        {
          "output_type": "stream",
          "name": "stderr",
          "text": [
            "/usr/local/lib/python3.8/dist-packages/sklearn/utils/deprecation.py:87: FutureWarning: Function plot_confusion_matrix is deprecated; Function `plot_confusion_matrix` is deprecated in 1.0 and will be removed in 1.2. Use one of the class methods: ConfusionMatrixDisplay.from_predictions or ConfusionMatrixDisplay.from_estimator.\n",
            "  warnings.warn(msg, category=FutureWarning)\n"
          ]
        },
        {
          "output_type": "stream",
          "name": "stdout",
          "text": [
            "matric without normalization\n",
            "[[19222     0]\n",
            " [ 8388     0]]\n"
          ]
        },
        {
          "output_type": "display_data",
          "data": {
            "text/plain": [
              "<Figure size 432x288 with 2 Axes>"
            ],
            "image/png": "[encoded data removed]"
          },
          "metadata": {
            "needs_background": "light"
          }
        },
        {
          "output_type": "stream",
          "name": "stderr",
          "text": [
            "/usr/local/lib/python3.8/dist-packages/sklearn/utils/deprecation.py:87: FutureWarning: Function plot_confusion_matrix is deprecated; Function `plot_confusion_matrix` is deprecated in 1.0 and will be removed in 1.2. Use one of the class methods: ConfusionMatrixDisplay.from_predictions or ConfusionMatrixDisplay.from_estimator.\n",
            "  warnings.warn(msg, category=FutureWarning)\n"
          ]
        },
        {
          "output_type": "stream",
          "name": "stdout",
          "text": [
            "normalized\n",
            "[[1. 0.]\n",
            " [1. 0.]]\n"
          ]
        },
        {
          "output_type": "display_data",
          "data": {
            "text/plain": [
              "<Figure size 432x288 with 2 Axes>"
            ],
            "image/png": "[encoded data removed]"
          },
          "metadata": {
            "needs_background": "light"
          }
        }
      ]
    }
  ]
}